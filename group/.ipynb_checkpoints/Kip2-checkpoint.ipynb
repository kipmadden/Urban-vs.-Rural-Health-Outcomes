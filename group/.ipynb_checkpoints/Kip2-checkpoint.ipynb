{
 "cells": [
  {
   "cell_type": "code",
   "execution_count": 1,
   "metadata": {},
   "outputs": [
    {
     "ename": "ModuleNotFoundError",
     "evalue": "No module named 'config'",
     "output_type": "error",
     "traceback": [
      "\u001b[1;31m---------------------------------------------------------------------------\u001b[0m",
      "\u001b[1;31mModuleNotFoundError\u001b[0m                       Traceback (most recent call last)",
      "\u001b[1;32m<ipython-input-1-1b6da9244229>\u001b[0m in \u001b[0;36m<module>\u001b[1;34m\u001b[0m\n\u001b[0;32m     20\u001b[0m \u001b[1;33m\u001b[0m\u001b[0m\n\u001b[0;32m     21\u001b[0m \u001b[1;31m# Import API key from a file that is ignored by Git (.gitignore file) so the key isn't exposed to the public\u001b[0m\u001b[1;33m\u001b[0m\u001b[1;33m\u001b[0m\u001b[1;33m\u001b[0m\u001b[0m\n\u001b[1;32m---> 22\u001b[1;33m \u001b[1;32mfrom\u001b[0m \u001b[0mconfig\u001b[0m \u001b[1;32mimport\u001b[0m \u001b[0mgkey\u001b[0m\u001b[1;33m\u001b[0m\u001b[1;33m\u001b[0m\u001b[0m\n\u001b[0m\u001b[0;32m     23\u001b[0m \u001b[1;33m\u001b[0m\u001b[0m\n\u001b[0;32m     24\u001b[0m \u001b[1;31m# Configure gmaps\u001b[0m\u001b[1;33m\u001b[0m\u001b[1;33m\u001b[0m\u001b[1;33m\u001b[0m\u001b[0m\n",
      "\u001b[1;31mModuleNotFoundError\u001b[0m: No module named 'config'"
     ]
    }
   ],
   "source": [
    "# Dependencies and Setup\n",
    "import matplotlib.pyplot as plt\n",
    "import pandas as pd\n",
    "import numpy as np\n",
    "import requests\n",
    "import time\n",
    "from scipy.stats import zscore\n",
    "from scipy.stats import linregress\n",
    "from scipy.stats import stats\n",
    "from pprint import pprint\n",
    "from datetime import datetime\n",
    "import os\n",
    "import gmaps\n",
    "import seaborn as sns\n",
    "import re\n",
    "\n",
    "from statsmodels.compat import lzip\n",
    "import statsmodels.api as sm\n",
    "from statsmodels.formula.api import ols"
   ]
  },
  {
   "cell_type": "markdown",
   "metadata": {},
   "source": [
    "## Store County Health Rankings Excel file results into DataFrame\n",
    "\n",
    "* Load the excel file imported from https://www.countyhealthrankings.org/app/texas/2019/measure/outcomes/144/description?sort=desc-2"
   ]
  },
  {
   "cell_type": "code",
   "execution_count": null,
   "metadata": {},
   "outputs": [],
   "source": [
    "path = \"data/2019 County Health Rankings Texas Data - v1_0.xls\"\n",
    "\n",
    "# Get the available sheets in the excel file and put into a list\n",
    "sheets = pd.ExcelFile(path).sheet_names\n",
    "print(sheets)"
   ]
  },
  {
   "cell_type": "markdown",
   "metadata": {},
   "source": [
    "## Read in the Ranked Measure Data sheet eliminating columns and extra headers\n",
    "* Make a list of available columns to decide what we don't want\n",
    "* Formulate a regex expression to match unwanted columns\n",
    "* Create a list of only wanted columns to be used for the usecols argument\n",
    "* Set county to be the index\n",
    "* Eliminate any row without a county name"
   ]
  },
  {
   "cell_type": "code",
   "execution_count": null,
   "metadata": {},
   "outputs": [],
   "source": [
    "# Get the 'Ranked Measure Data' sheet using the sheets list above and rejecting the top header row\n",
    "rmd = pd.read_excel(path, header=[1], sheet_name=sheets[3])\n",
    "\n",
    "# View the columns and decide what we don't want\n",
    "col1 = [col for col in rmd.columns] \n",
    "col1.sort()\n",
    "col1"
   ]
  },
  {
   "cell_type": "code",
   "execution_count": null,
   "metadata": {},
   "outputs": [],
   "source": [
    "# Create a regular expression to match unwanted columns\n",
    "regex = '^Z|95|State|Unreliable'\n",
    "\n",
    "# Use a list comprehension to make a list of columns that don't match the regex (a failed regex match returns 'None')\n",
    "cols = [col for col in rmd.columns if re.match(regex,col) is None]\n",
    "\n",
    "# Create a dataframe of the desired columns and set 'County' to the index\n",
    "rmd_df = pd.read_excel(path, header=[1], sheet_name=sheets[3],usecols=cols)\n",
    "\n",
    "# Drop any row that has NaN as County value\n",
    "rmd_df = rmd_df[pd.notnull(rmd_df['County'])]\n",
    "print(f'shape of rmd_df: {rmd_df.shape}')\n",
    "rmd_df.head(1)"
   ]
  },
  {
   "cell_type": "markdown",
   "metadata": {},
   "source": [
    "## Read in the Additional Measure Data sheet eliminating columns and extra headers\n",
    "* Make a list of available columns to decide what we don't want\n",
    "* Formulate a regex expression to match unwanted columns\n",
    "* Create a list of only wanted columns to be used for the usecols argument\n",
    "* Set county to be the index\n",
    "* Eliminate any row without a county name"
   ]
  },
  {
   "cell_type": "code",
   "execution_count": null,
   "metadata": {},
   "outputs": [],
   "source": [
    "# Get the 'Ranked Measure Data' sheet using the sheets list above and rejecting the top header row\n",
    "amd = pd.read_excel(path, header=[1], sheet_name=sheets[4])\n",
    "\n",
    "# View the columns and decide what we don't want\n",
    "[print(col) for col in amd.columns] "
   ]
  },
  {
   "cell_type": "code",
   "execution_count": null,
   "metadata": {},
   "outputs": [],
   "source": [
    "# Create a regular expression to match unwanted columns\n",
    "regex = '^Z|95|State|Unreliable'\n",
    "\n",
    "# Use a list comprehension to make a list of columns that don't match the regex (a failed regex match returns 'None')\n",
    "cols = [col for col in amd.columns if re.match(regex,col) is None]\n",
    "\n",
    "# Create a dataframe of the desired columns and set 'County' to the index\n",
    "amd_df = pd.read_excel(path, header=[1], sheet_name=sheets[4],usecols=cols)\n",
    "\n",
    "# Drop any row that has Nan as County value\n",
    "amd_df = amd_df[pd.notnull(amd_df['County'])]\n",
    "print(f'shape of rmd_df: {amd_df.shape}')\n",
    "amd_df.head(1)"
   ]
  },
  {
   "cell_type": "code",
   "execution_count": null,
   "metadata": {},
   "outputs": [],
   "source": [
    "# Merge the rmd and amd dataframes using inner join on County column (index)\n",
    "merged_df = pd.merge(rmd_df,amd_df, how='inner', on='County')\n",
    "print(f'shape of merged_df: {merged_df.shape}')\n",
    "#merged_df.head(1)"
   ]
  },
  {
   "cell_type": "code",
   "execution_count": null,
   "metadata": {},
   "outputs": [],
   "source": [
    "# View the columns that end in '_x' or '_y'\n",
    "regex2 = '.*_x$|.*_y$'\n",
    "[print(col) for col in merged_df.columns if re.match(regex2,col) is not None]"
   ]
  },
  {
   "cell_type": "code",
   "execution_count": null,
   "metadata": {},
   "outputs": [],
   "source": [
    "# Drop the duplicate _y columns\n",
    "regex3 = '.*_y$'\n",
    "merged_df.drop([col for col in merged_df.columns if re.match(regex3,col) is not None],axis=1, inplace=True)\n",
    "print(merged_df.shape)"
   ]
  },
  {
   "cell_type": "code",
   "execution_count": null,
   "metadata": {},
   "outputs": [],
   "source": [
    "# Rename the columns to eliminate the '_x' leftover from the join\n",
    "merged_df.rename(columns = {'FIPS_x':'FIPS',\\\n",
    "                                        '# Uninsured_x':'# Uninsured',\\\n",
    "                                        '% Uninsured_x':'% Uninsured',\\\n",
    "                                        'Population_x':'Population'},\\\n",
    "                                         inplace=True)\n",
    "#merged_df.columns\n",
    "# View the columns that end in '_x' or '_y'\n",
    "regex2 = '.*_x$|.*_y$'\n",
    "[print(col) for col in merged_df.columns if re.match(regex2,col) is not None] "
   ]
  },
  {
   "cell_type": "markdown",
   "metadata": {},
   "source": [
    "## Store NCHS Urban Rural Classification System Excel file results into DataFrame\n",
    "\n",
    "* Load the excel file imported from https://www.cdc.gov/nchs/data_access/urban_rural.htm#Data_Files_and_Documentation\n",
    "* No description or label was given in the 'NCHS URCS' - only numbers 1-6. Reading the file documentation gave this information, so an excel sheet was created and a VLOOKUP mapped the names and descriptions to the classification numbers. The result excel file will be imported and joined to the merged_df"
   ]
  },
  {
   "cell_type": "code",
   "execution_count": null,
   "metadata": {},
   "outputs": [],
   "source": [
    "path2 = 'data/NCHS Urban Rural Classification System.xlsx'\n",
    "\n",
    "# Get the available sheets in the excel file and put into a list\n",
    "sheets2 = pd.ExcelFile(path2).sheet_names\n",
    "print(sheets2)"
   ]
  },
  {
   "cell_type": "code",
   "execution_count": null,
   "metadata": {},
   "outputs": [],
   "source": [
    "# Get the 'URCS' sheet using the sheets list above and rejecting the top header row\n",
    "cs = pd.read_excel(path2)\n",
    "cs.columns\n",
    "cs.head(1)\n"
   ]
  },
  {
   "cell_type": "code",
   "execution_count": null,
   "metadata": {},
   "outputs": [],
   "source": [
    "# Get the 'URCS' sheet using the columns list above\n",
    "urcs = pd.read_excel(path2,usecols=['FIPS code','URCS','URCS Name','URCS description'],index_col=0)\n",
    "print(f'shape of urcs: {urcs.shape}')\n"
   ]
  },
  {
   "cell_type": "code",
   "execution_count": null,
   "metadata": {},
   "outputs": [],
   "source": [
    "# Drop any row that has Nan as an index value\n",
    "urcs = urcs.loc[urcs.index.dropna()]\n",
    "print(f'shape of urcs: {urcs.shape}')"
   ]
  },
  {
   "cell_type": "code",
   "execution_count": null,
   "metadata": {},
   "outputs": [],
   "source": [
    "# Check that all FIPS in the merged_df are in the urcs.index (urcs index has ALL counties in USA not just Texas)\n",
    "print(f\"merged_df FIPS:{[mips for mips in merged_df['FIPS'] if mips not in urcs.index]} not found in urcs.index\")\n",
    "#print(f'urcs county:{[county for county in urcs.index if county not in merged_df[\"FIPS\"]]} not found in merged_df.index')"
   ]
  },
  {
   "cell_type": "code",
   "execution_count": null,
   "metadata": {},
   "outputs": [],
   "source": [
    "# Rename the index 'FIPS code' to FIPS\n",
    "urcs.rename_axis('FIPS', axis=0, inplace=True)\n",
    "urcs.head()"
   ]
  },
  {
   "cell_type": "markdown",
   "metadata": {},
   "source": [
    "# Merge the NCHS URCS data with the merged_df"
   ]
  },
  {
   "cell_type": "code",
   "execution_count": null,
   "metadata": {},
   "outputs": [],
   "source": [
    "all_df = pd.merge(urcs,merged_df, how='inner', on='FIPS')\n",
    "#print(all_df.shape)\n",
    "all_df.head(1)"
   ]
  },
  {
   "cell_type": "code",
   "execution_count": null,
   "metadata": {},
   "outputs": [],
   "source": [
    "multi_df = all_df.set_index(['URCS','URCS Name','County'])\n",
    "multi_df = multi_df.sort_index()\n",
    "\n",
    "print(multi_df.shape)\n",
    "multi_df.head(50)"
   ]
  },
  {
   "cell_type": "code",
   "execution_count": null,
   "metadata": {},
   "outputs": [],
   "source": [
    "rural_df = multi_df.loc['Rural']\n",
    "print(rural_df.shape)"
   ]
  },
  {
   "cell_type": "code",
   "execution_count": null,
   "metadata": {},
   "outputs": [],
   "source": [
    "urban_df = multi_df.loc['Urban']\n",
    "print(urban_df.shape)"
   ]
  },
  {
   "cell_type": "code",
   "execution_count": null,
   "metadata": {},
   "outputs": [],
   "source": [
    "corr1 = multi_df.corr()"
   ]
  },
  {
   "cell_type": "code",
   "execution_count": null,
   "metadata": {},
   "outputs": [],
   "source": [
    "corr1.to_csv('Corr1.csv')"
   ]
  },
  {
   "cell_type": "code",
   "execution_count": null,
   "metadata": {},
   "outputs": [],
   "source": [
    "multi_df.to_csv('multi_df.csv')"
   ]
  },
  {
   "cell_type": "code",
   "execution_count": null,
   "metadata": {},
   "outputs": [],
   "source": [
    "corr1_spear = multi_df.corr(method='spearman')"
   ]
  },
  {
   "cell_type": "code",
   "execution_count": null,
   "metadata": {},
   "outputs": [],
   "source": [
    "corr1_spear.to_csv('Corr1_spear.csv')"
   ]
  },
  {
   "cell_type": "markdown",
   "metadata": {},
   "source": [
    "## Function to easily do a panel of scatterplots easily"
   ]
  },
  {
   "cell_type": "code",
   "execution_count": null,
   "metadata": {},
   "outputs": [],
   "source": [
    "def makePanelScatterplot(data_df, x_data,y_data,color_col,split_col):\n",
    "    x_label = x_data\n",
    "    y_label = y_data\n",
    "    ylim_min = data_df[y_data].min()*1.05\n",
    "    ylim_max = data_df[y_data].max()*1.05\n",
    "    xlim_min = data_df[x_data].min()*1.05\n",
    "    xlim_max = data_df[x_data].max()*1.05\n",
    "\n",
    "    g = sns.lmplot(x=x_data, y=y_data, data=data_df,\\\n",
    "           hue=color_col, col=split_col,col_wrap=3)\n",
    "\n",
    "        \n",
    "    g = (g.set_axis_labels(x_label, y_label)\n",
    "          .set(ylim=(ylim_min, ylim_max),xlim=(xlim_min, xlim_max))\n",
    "          .fig.subplots_adjust(wspace=.02))"
   ]
  },
  {
   "cell_type": "markdown",
   "metadata": {},
   "source": [
    "## Function to call OLS Regression Statsmodel from 2 columns of dataframe"
   ]
  },
  {
   "cell_type": "code",
   "execution_count": null,
   "metadata": {},
   "outputs": [],
   "source": [
    "def olsRegressionAnalysis (df,df_name,dep_col,ind_col):\n",
    "    stat_dep_col = dep_col.replace(' ','_').replace('-','_').replace('(','_').replace(')','')\n",
    "    stat_ind_col = ind_col.replace(' ','_').replace('-','_').replace('(','_').replace(')','')\n",
    "    stat_col_list = [stat_dep_col,stat_ind_col]\n",
    "    #print(f'stat_dep_col: {stat_dep_col}, stat_ind_col: {stat_ind_col}')\n",
    "    col_list = [dep_col,ind_col]\n",
    "\n",
    "    col_dict = {col_list[i]: stat_col_list[i] for i in range(len(col_list))} \n",
    "    #print(col_dict)\n",
    "    stat_df = df[col_list].dropna()\n",
    "    stat_df.rename(columns=col_dict,inplace=True)\n",
    "    print(f'\\u001b[34m{dep_col}\\u001b[0m fitted against \\u001b[34m{ind_col}\\u001b[0m using \\x1b[31m{df_name}\\x1b[0m dataframe:\\n')\n",
    "    print(f'We have {stat_df.shape[0]} rows left after dropping Null values\\n')\n",
    "    model_string = stat_dep_col + \" ~ \" + stat_ind_col\n",
    "    all_model = ols(model_string, data=stat_df).fit()\n",
    "    print(all_model.summary())"
   ]
  },
  {
   "cell_type": "markdown",
   "metadata": {},
   "source": [
    "## Spot check for outliers for our dependent variable 'Age-Adjusted Mortality' (AAMR)"
   ]
  },
  {
   "cell_type": "code",
   "execution_count": null,
   "metadata": {},
   "outputs": [],
   "source": [
    "# Run a boxplot of the Urban vs.Rural AAMR\n",
    "g = sns.boxplot(y='Age-Adjusted Mortality', x='URCS', \n",
    "                 data=all_df, \n",
    "                 palette=\"colorblind\")\n",
    "g.set_xticklabels(g.get_xticklabels(), rotation=30)"
   ]
  },
  {
   "cell_type": "code",
   "execution_count": null,
   "metadata": {},
   "outputs": [],
   "source": [
    "g = sns.boxplot(y='Age-Adjusted Mortality', x='URCS Name', \n",
    "                 data=all_df, \n",
    "                 palette=\"colorblind\")\n",
    "g.set_xticklabels(g.get_xticklabels(), rotation=30)"
   ]
  },
  {
   "cell_type": "markdown",
   "metadata": {},
   "source": [
    "## Clean each column of the dataframe for outliers in each column\n",
    "\n",
    "For each URCS Name we will make a dataframe and then act on each column to substitute a NaN value for the outlier.\n",
    "The cutoff for outliers will be set to a zscore of greater than 2 (So we keep the actual value where zscore < 2 in our mask)"
   ]
  },
  {
   "cell_type": "code",
   "execution_count": null,
   "metadata": {},
   "outputs": [],
   "source": [
    "# First cut the urban_df for the URCS Name value (shown in the box plot above)\n",
    "lcm_df = urban_df.loc['Large central metro']\n",
    "# Drop the non-numeric columns (they will throw an error if we try to calculate a zscore)\n",
    "lcm_df = lcm_df.drop([\"URCS description\",\"PCP Ratio\",\"Dentist Ratio\",\\\n",
    "               \"MHP Ratio\",\"Presence of violation\",\"Other PCP Ratio\"], axis=1)\n",
    "# Fill the NaN values with zeros - otherwise the zscore mask will replace all values in the column with NaN\n",
    "lcm_df = lcm_df.fillna(0)\n",
    "# Apply a condition to every column to replace any value with a zscore < 2 with NaN\n",
    "lcm_df = lcm_df.where(lcm_df.apply(zscore).lt(2))\n",
    "# Transform all the zero values back to NaN\n",
    "lcm_df.replace(0, np.nan, inplace=True)\n",
    "# Reset the Index to put the indexes back into columns \n",
    "lcm_df.reset_index(inplace=True)  "
   ]
  },
  {
   "cell_type": "code",
   "execution_count": null,
   "metadata": {},
   "outputs": [],
   "source": [
    "# Repeat procedure for each value of the URCS Name value - see above cell comments for logic\n",
    "lfm_df = urban_df.loc['Large fringe metro']\n",
    "lfm_df = lfm_df.drop([\"URCS description\",\"PCP Ratio\",\"Dentist Ratio\",\\\n",
    "               \"MHP Ratio\",\"Presence of violation\",\"Other PCP Ratio\"], axis=1)\n",
    "lfm_df = lfm_df.fillna(0)\n",
    "lfm_df = lfm_df.where(lfm_df.apply(zscore).lt(2))\n",
    "lfm_df.replace(0, np.nan, inplace=True)\n",
    "lfm_df.reset_index(inplace=True) "
   ]
  },
  {
   "cell_type": "code",
   "execution_count": null,
   "metadata": {},
   "outputs": [],
   "source": [
    "# Repeat procedure for each value of the URCS Name value - see above cell comments for logic\n",
    "mm_df = urban_df.loc['Medium metro']\n",
    "mm_df = mm_df.drop([\"URCS description\",\"PCP Ratio\",\"Dentist Ratio\",\\\n",
    "               \"MHP Ratio\",\"Presence of violation\",\"Other PCP Ratio\"], axis=1)\n",
    "mm_df = mm_df.fillna(0)\n",
    "mm_df = mm_df.where(mm_df.apply(zscore).lt(2))\n",
    "mm_df.replace(0, np.nan, inplace=True)\n",
    "mm_df.reset_index(inplace=True) "
   ]
  },
  {
   "cell_type": "code",
   "execution_count": null,
   "metadata": {},
   "outputs": [],
   "source": [
    "# Repeat procedure for each value of the URCS Name value - see above cell comments for logic\n",
    "sm_df = urban_df.loc['Small metro']\n",
    "#sm_df['Age-Adjusted Mortality']\n",
    "sm_df = sm_df.drop([\"URCS description\",\"PCP Ratio\",\"Dentist Ratio\",\\\n",
    "               \"MHP Ratio\",\"Presence of violation\",\"Other PCP Ratio\"], axis=1)\n",
    "sm_df =sm_df.fillna(0)\n",
    "sm_df = sm_df.where(sm_df.apply(zscore).lt(2))\n",
    "sm_df[sm_df['Age-Adjusted Mortality'] < 300] = np.nan\n",
    "sm_df.replace(0, np.nan, inplace=True)\n",
    "sm_df.reset_index(inplace=True) \n",
    "#sm_df['Age-Adjusted Mortality']"
   ]
  },
  {
   "cell_type": "code",
   "execution_count": null,
   "metadata": {},
   "outputs": [],
   "source": [
    "# Repeat procedure for each value of the URCS Name value - see above cell comments for logic\n",
    "mp_df = rural_df.loc['Micropolitan']\n",
    "mp_df = mp_df.drop([\"URCS description\",\"PCP Ratio\",\"Dentist Ratio\",\\\n",
    "               \"MHP Ratio\",\"Presence of violation\",\"Other PCP Ratio\"], axis=1)\n",
    "mp_df = mp_df.fillna(0.000001)\n",
    "mp_df = mp_df.where(mp_df.apply(zscore).lt(2))\n",
    "#mp_df = mp_df.where(mp_df.apply(zscore).gt(2))\n",
    "mp_df.replace(0.000001, np.nan, inplace=True)\n",
    "mp_df.reset_index(inplace=True)"
   ]
  },
  {
   "cell_type": "code",
   "execution_count": null,
   "metadata": {},
   "outputs": [],
   "source": [
    "# Repeat procedure for each value of the URCS Name value - see above cell comments for logic\n",
    "nc_df = rural_df.loc['Noncore']\n",
    "nc_df = nc_df.drop([\"URCS description\",\"PCP Ratio\",\"Dentist Ratio\",\\\n",
    "               \"MHP Ratio\",\"Presence of violation\",\"Other PCP Ratio\"], axis=1)\n",
    "nc_df = nc_df.fillna(0)\n",
    "nc_df = nc_df.where(nc_df.apply(zscore).abs().lt(2))\n",
    "nc_df[nc_df['Age-Adjusted Mortality'] < 200] = np.nan\n",
    "nc_df.replace(0, np.nan, inplace=True)\n",
    "nc_df.reset_index(inplace=True) \n",
    "#nc_df['Age-Adjusted Mortality']"
   ]
  },
  {
   "cell_type": "code",
   "execution_count": null,
   "metadata": {},
   "outputs": [],
   "source": [
    "# Concatonate all the partial dataframes that have removed outliers relative to their URCS Name classification\n",
    "clean_df = pd.concat([lcm_df, lfm_df, mm_df, sm_df, mp_df, nc_df])"
   ]
  },
  {
   "cell_type": "code",
   "execution_count": null,
   "metadata": {},
   "outputs": [],
   "source": [
    "# Merge the clean dataframe back with the urcs dataframe to add back the URCS columns\n",
    "all_clean_df = pd.merge(urcs,clean_df, how='inner', on='FIPS')\n",
    "print(all_clean_df.shape)"
   ]
  },
  {
   "cell_type": "code",
   "execution_count": null,
   "metadata": {},
   "outputs": [],
   "source": [
    "# Set index to a multiindex again using 3 columns\n",
    "multi_clean_df = all_clean_df.set_index(['URCS','URCS Name','County'])\n",
    "multi_clean_df = multi_clean_df.sort_index()\n",
    "print(multi_clean_df.shape)"
   ]
  },
  {
   "cell_type": "markdown",
   "metadata": {},
   "source": [
    "## Regenerate clean urban_df and rural_df from multi_clean_df"
   ]
  },
  {
   "cell_type": "code",
   "execution_count": null,
   "metadata": {},
   "outputs": [],
   "source": [
    "rural_clean_df = multi_clean_df.loc['Rural']\n",
    "print(rural_df.shape)"
   ]
  },
  {
   "cell_type": "code",
   "execution_count": null,
   "metadata": {},
   "outputs": [],
   "source": [
    "urban_clean_df = multi_clean_df.loc['Urban']\n",
    "print(urban_df.shape)"
   ]
  },
  {
   "cell_type": "markdown",
   "metadata": {},
   "source": [
    "## Rerun Box plot to verify no outliers for our dependent variable 'Age-Adjusted Mortality'"
   ]
  },
  {
   "cell_type": "code",
   "execution_count": null,
   "metadata": {
    "scrolled": true
   },
   "outputs": [],
   "source": [
    "g = sns.boxplot(y='Age-Adjusted Mortality', x='URCS', \n",
    "                 data=all_clean_df, \n",
    "                 palette=\"colorblind\")\n",
    "g.set_xticklabels(g.get_xticklabels(), rotation=30)"
   ]
  },
  {
   "cell_type": "markdown",
   "metadata": {},
   "source": [
    "# Is there a significant difference between Urban and Rural populations?\n"
   ]
  },
  {
   "cell_type": "code",
   "execution_count": null,
   "metadata": {},
   "outputs": [],
   "source": [
    "# Create a series of just the Urban,AAMR data and also Rural,AAMR\n",
    "urban_aamr = multi_clean_df.loc['Urban','Age-Adjusted Mortality'].dropna()\n",
    "rural_aamr = multi_clean_df.loc['Rural','Age-Adjusted Mortality'].dropna()\n",
    "\n",
    "# Run a t-test between the urban and rural Age-Adjusted Mortality\n",
    "stats.ttest_ind(urban_aamr, rural_aamr, equal_var=False)"
   ]
  },
  {
   "cell_type": "markdown",
   "metadata": {},
   "source": [
    "#### The pvalue is much greater than 0.05 so there is no statistically significant difference between Urban and Rural populations with respect to measuring AAMR\n",
    "\n",
    "So the question is: If we segment our Urban and Rural populations using the URCS Classification scheme will we see a difference among the subpopulations of Urban and Rural?"
   ]
  },
  {
   "cell_type": "code",
   "execution_count": null,
   "metadata": {},
   "outputs": [],
   "source": [
    "g = sns.boxplot(y='Age-Adjusted Mortality', x='URCS Name', \n",
    "                 data=all_clean_df, \n",
    "                 palette=\"colorblind\")\n",
    "g.set_xticklabels(g.get_xticklabels(), rotation=30)"
   ]
  },
  {
   "cell_type": "code",
   "execution_count": null,
   "metadata": {},
   "outputs": [],
   "source": [
    "# Create a series of just the Urban,AAMR data and also Rural,AAMR for each group\n",
    "lcm_aamr = urban_clean_df.loc['Large central metro','Age-Adjusted Mortality'].dropna()\n",
    "lfm_aamr = urban_clean_df.loc['Large fringe metro','Age-Adjusted Mortality'].dropna()\n",
    "mm_aamr = urban_clean_df.loc['Medium metro','Age-Adjusted Mortality'].dropna()\n",
    "sm_aamr = urban_clean_df.loc['Small metro','Age-Adjusted Mortality'].dropna()\n",
    "mp_aamr = rural_clean_df.loc['Micropolitan','Age-Adjusted Mortality'].dropna()\n",
    "nc_aamr = rural_clean_df.loc['Noncore','Age-Adjusted Mortality'].dropna()"
   ]
  },
  {
   "cell_type": "markdown",
   "metadata": {},
   "source": [
    "## Test 'Large central metro' (lcm) area against both 'Micropolitan' (mp) and 'Noncore' (nc) rural areas using a t-test"
   ]
  },
  {
   "cell_type": "code",
   "execution_count": null,
   "metadata": {},
   "outputs": [],
   "source": [
    "# Run a t-test between the urban lcm and rural mp for Age-Adjusted Mortality\n",
    "stats.ttest_ind(lcm_aamr, mp_aamr, equal_var=False)"
   ]
  },
  {
   "cell_type": "code",
   "execution_count": null,
   "metadata": {},
   "outputs": [],
   "source": [
    "# Run a t-test between the urban lcm and rural nc for Age-Adjusted Mortality\n",
    "stats.ttest_ind(lcm_aamr, nc_aamr, equal_var=False)"
   ]
  },
  {
   "cell_type": "markdown",
   "metadata": {},
   "source": [
    "## Test 'Large central metro' (lcm) area against remaining 'Large fringe metro' (lfm), 'Medium metro' (mm) and 'Small metro' (sm) urban areas using a t-test"
   ]
  },
  {
   "cell_type": "code",
   "execution_count": null,
   "metadata": {},
   "outputs": [],
   "source": [
    "# Run a t-test between the urban lcm and urban lfm for Age-Adjusted Mortality\n",
    "stats.ttest_ind(lcm_aamr, lfm_aamr, equal_var=False)"
   ]
  },
  {
   "cell_type": "code",
   "execution_count": null,
   "metadata": {},
   "outputs": [],
   "source": [
    "# Run a t-test between the urban lcm and urban mm for Age-Adjusted Mortality\n",
    "stats.ttest_ind(lcm_aamr, mm_aamr, equal_var=False)"
   ]
  },
  {
   "cell_type": "code",
   "execution_count": null,
   "metadata": {},
   "outputs": [],
   "source": [
    "# Run a t-test between the urban lcm and urban sm for Age-Adjusted Mortality\n",
    "stats.ttest_ind(lcm_aamr, sm_aamr, equal_var=False)"
   ]
  },
  {
   "cell_type": "markdown",
   "metadata": {},
   "source": [
    "### The lcm urban area has a significantly better health outcome against both urban areas mm and sm but not against lfm\n",
    "The pvalues of 0.0040 and 0.0012 show a statistically significant better outcome for lcm vs. both mm and sm but\n",
    "the pvalue of 0.2175 does not show a statistically significant difference in health outcome as measured by AAMR"
   ]
  },
  {
   "cell_type": "markdown",
   "metadata": {},
   "source": [
    "## Test 'Large fringe metro' (lfm) area against both 'Micropolitan' (mp) and 'Noncore' (nc) rural areas using a t-test"
   ]
  },
  {
   "cell_type": "code",
   "execution_count": null,
   "metadata": {},
   "outputs": [],
   "source": [
    "# Run a t-test between the urban lfm and rural mp for Age-Adjusted Mortality\n",
    "stats.ttest_ind(lfm_aamr, mp_aamr, equal_var=False)"
   ]
  },
  {
   "cell_type": "code",
   "execution_count": null,
   "metadata": {},
   "outputs": [],
   "source": [
    "# Run a t-test between the urban lfm and rural nc for Age-Adjusted Mortality\n",
    "stats.ttest_ind(lfm_aamr, nc_aamr, equal_var=False)"
   ]
  },
  {
   "cell_type": "markdown",
   "metadata": {},
   "source": [
    "### The lfm urban area is NOT significantly better health outcome against both rural areas mp and nc\n",
    "The pvalues of 4.025 and 6.538 do not show a statistically significant better outcome for lcm vs. both mp and nc"
   ]
  },
  {
   "cell_type": "code",
   "execution_count": null,
   "metadata": {},
   "outputs": [],
   "source": [
    "olsRegressionAnalysis(urban_clean_df,\"urban_clean_df\",\"Age-Adjusted Mortality\",\"Household Income\")"
   ]
  },
  {
   "cell_type": "code",
   "execution_count": null,
   "metadata": {},
   "outputs": [],
   "source": [
    "urb_inc = multi_clean_df.loc['Urban','Age-Adjusted Mortality'].dropna()\n",
    "urb_inc.describe()"
   ]
  },
  {
   "cell_type": "code",
   "execution_count": null,
   "metadata": {},
   "outputs": [],
   "source": [
    "print(stats.normaltest(urb_inc))"
   ]
  },
  {
   "cell_type": "code",
   "execution_count": null,
   "metadata": {},
   "outputs": [],
   "source": [
    "sns.jointplot(data=urban_clean_df, x=\"Household Income\", y=\"Age-Adjusted Mortality\", kind='reg', color='g')"
   ]
  },
  {
   "cell_type": "markdown",
   "metadata": {},
   "source": [
    "# What factors correlate with AAMR?\n",
    "\n",
    "olsRegressionAnalysis(urban_clean_df,\"urban_clean_df\",\"Age-Adjusted Mortality\",\"Household Income\")\n",
    "\n",
    "urb_inc = multi_clean_df.loc['Urban','Age-Adjusted Mortality'].dropna()\n",
    "urb_inc.describe()\n",
    "\n",
    "print(stats.normaltest(urb_inc))\n",
    "\n",
    "sns.jointplot(data=urban_clean_df, x=\"Household Income\", y=\"Age-Adjusted Mortality\", kind='reg', color='g')"
   ]
  },
  {
   "cell_type": "markdown",
   "metadata": {},
   "source": [
    "## Age adjusted Mortality (Deaths/100k) for Everyone"
   ]
  },
  {
   "cell_type": "code",
   "execution_count": null,
   "metadata": {},
   "outputs": [],
   "source": [
    "makePanelScatterplot(all_clean_df,\"Household Income\",\"Age-Adjusted Mortality\",\"URCS\",\"URCS\")"
   ]
  },
  {
   "cell_type": "markdown",
   "metadata": {},
   "source": [
    "## Statistically Examine the Urban AAMR vs.Household Income (HI)"
   ]
  },
  {
   "cell_type": "code",
   "execution_count": null,
   "metadata": {},
   "outputs": [],
   "source": [
    "olsRegressionAnalysis(urban_clean_df,\"urban_clean_df\",\"Age-Adjusted Mortality\",\"Household Income\")"
   ]
  },
  {
   "cell_type": "code",
   "execution_count": null,
   "metadata": {},
   "outputs": [],
   "source": [
    "urb_inc = multi_clean_df.loc['Urban','Age-Adjusted Mortality'].dropna()\n",
    "urb_inc.describe()"
   ]
  },
  {
   "cell_type": "code",
   "execution_count": null,
   "metadata": {},
   "outputs": [],
   "source": [
    "print(stats.normaltest(urb_inc))"
   ]
  },
  {
   "cell_type": "code",
   "execution_count": null,
   "metadata": {},
   "outputs": [],
   "source": [
    "sns.distplot(urb_inc);"
   ]
  },
  {
   "cell_type": "code",
   "execution_count": null,
   "metadata": {},
   "outputs": [],
   "source": [
    "sns.jointplot(data=urban_clean_df, x=\"Household Income\", y=\"Age-Adjusted Mortality\", kind='reg', color='g')"
   ]
  },
  {
   "cell_type": "code",
   "execution_count": null,
   "metadata": {},
   "outputs": [],
   "source": [
    "olsRegressionAnalysis(urban_clean_df,\"urban_clean_df\",\"Age-Adjusted Mortality\",\"Household Income\")"
   ]
  },
  {
   "cell_type": "code",
   "execution_count": null,
   "metadata": {},
   "outputs": [],
   "source": [
    "urb_inc = multi_clean_df.loc['Urban','Age-Adjusted Mortality'].dropna()\n",
    "urb_inc.describe()"
   ]
  },
  {
   "cell_type": "code",
   "execution_count": null,
   "metadata": {},
   "outputs": [],
   "source": [
    "print(stats.normaltest(urb_inc))"
   ]
  },
  {
   "cell_type": "code",
   "execution_count": null,
   "metadata": {},
   "outputs": [],
   "source": [
    "sns.jointplot(data=urban_clean_df, x=\"Household Income\", y=\"Age-Adjusted Mortality\", kind='reg', color='g')"
   ]
  },
  {
   "cell_type": "code",
   "execution_count": null,
   "metadata": {},
   "outputs": [],
   "source": [
    "makePanelScatterplot(all_df,\"Household Income\",\"Age-Adjusted Mortality\",\"URCS\",\"URCS\")"
   ]
  },
  {
   "cell_type": "code",
   "execution_count": null,
   "metadata": {},
   "outputs": [],
   "source": [
    "olsRegressionAnalysis(urban_df,\"urban_df\",\"Age-Adjusted Mortality\",\"Teen Birth Rate (White)\")"
   ]
  },
  {
   "cell_type": "code",
   "execution_count": null,
   "metadata": {},
   "outputs": [],
   "source": [
    "olsRegressionAnalysis(rural_df,\"rural_df\",\"Age-Adjusted Mortality\",\"Household Income\")"
   ]
  },
  {
   "cell_type": "code",
   "execution_count": null,
   "metadata": {},
   "outputs": [],
   "source": [
    "makePanelScatterplot(all_clean_df,\"Household Income\",\"Age-Adjusted Mortality\",\"URCS\",\"URCS Name\")"
   ]
  },
  {
   "cell_type": "markdown",
   "metadata": {},
   "source": [
    "# Age adjusted Mortality (Deaths/100k) for Blacks"
   ]
  },
  {
   "cell_type": "code",
   "execution_count": null,
   "metadata": {},
   "outputs": [],
   "source": [
    "makePanelScatterplot(all_clean_df,\"Household income (Black)\",\"Age-Adjusted Mortality (Black)\",\"URCS\",\"URCS\")"
   ]
  },
  {
   "cell_type": "code",
   "execution_count": null,
   "metadata": {},
   "outputs": [],
   "source": [
    "makePanelScatterplot(all_clean_df,\"Household income (Black)\",\"Age-Adjusted Mortality (Black)\",\"URCS\",\"URCS Name\")"
   ]
  },
  {
   "cell_type": "markdown",
   "metadata": {},
   "source": [
    "# Age adjusted Mortality (Deaths/100k) for Whites"
   ]
  },
  {
   "cell_type": "code",
   "execution_count": null,
   "metadata": {},
   "outputs": [],
   "source": [
    "makePanelScatterplot(all_clean_df,\"Age-Adjusted Mortality (White)\",\"Household income (White)\",\"URCS\",\"URCS\")"
   ]
  },
  {
   "cell_type": "code",
   "execution_count": null,
   "metadata": {},
   "outputs": [],
   "source": [
    "data_df = multi_df\n",
    "x_data = \"Age-Adjusted Mortality (White)\"\n",
    "y_data = \"Household income (White)\"\n",
    "color_col = \"URCS\"\n",
    "split_col = \"URCS Name\"\n",
    "x_label = x_data\n",
    "y_label = y_data\n",
    "ylim_min = data_df[y_data].min()*1.05\n",
    "ylim_max = data_df[y_data].max()*1.05\n",
    "\n",
    "g = sns.lmplot(x=x_data, y=y_data, data=all_df,\\\n",
    "           hue=color_col, col=split_col,col_wrap=3,height=4)\n",
    "\n",
    "g = (g.set_axis_labels(x_label, y_label)\n",
    "      .set(ylim=(ylim_min, ylim_max))\n",
    "      .fig.subplots_adjust(wspace=.02))"
   ]
  },
  {
   "cell_type": "markdown",
   "metadata": {},
   "source": [
    "# Age adjusted Mortality (Deaths/100k) for Hispanics"
   ]
  },
  {
   "cell_type": "code",
   "execution_count": null,
   "metadata": {},
   "outputs": [],
   "source": [
    "data_df = all_df\n",
    "x_data = \"Household income (Hispanic)\"\n",
    "y_data = \"Age-Adjusted Mortality (Hispanic)\"\n",
    "color_col = \"URCS\"\n",
    "split_col = \"URCS\"\n",
    "x_label = x_data\n",
    "y_label = y_data\n",
    "ylim_min = data_df[y_data].min()*1.05\n",
    "ylim_max = data_df[y_data].max()*1.05\n",
    "print(f'ylim min:{ylim_min}, ylim max:{ylim_max}')\n",
    "g = sns.lmplot(x=x_data, y=y_data, data=data_df,\\\n",
    "           hue=color_col, col=split_col)\n",
    "\n",
    "g = (g.set_axis_labels(x_label, y_label)\n",
    "      .set(ylim=(ylim_min, ylim_max))\n",
    "      .fig.subplots_adjust(wspace=.02))"
   ]
  },
  {
   "cell_type": "code",
   "execution_count": null,
   "metadata": {},
   "outputs": [],
   "source": [
    "data_df = all_df\n",
    "x_data = \"Household income (Hispanic)\"\n",
    "y_data = \"Age-Adjusted Mortality (Hispanic)\"\n",
    "color_col = \"URCS\"\n",
    "split_col = \"URCS Name\"\n",
    "x_label = x_data\n",
    "y_label = y_data\n",
    "ylim_min = data_df[y_data].min()*1.05\n",
    "ylim_max = data_df[y_data].max()*1.05\n",
    "xlim_min = data_df[x_data].min()*1.05\n",
    "xlim_max = data_df[x_data].max()*1.05\n",
    "\n",
    "g = sns.lmplot(x=x_data, y=y_data, data=all_df,\\\n",
    "           hue=color_col, col=split_col,col_wrap=3,height=4)\n",
    "\n",
    "g = (g.set_axis_labels(x_label, y_label)\n",
    "      .set(ylim=(ylim_min, ylim_max),xlim=(xlim_min, xlim_max))\n",
    "      .fig.subplots_adjust(wspace=.02))"
   ]
  },
  {
   "cell_type": "code",
   "execution_count": null,
   "metadata": {},
   "outputs": [],
   "source": [
    "lcm = multi_df.loc[['Rural'],'Age-Adjusted Mortality'].dropna()\n",
    "lcm.describe()\n"
   ]
  },
  {
   "cell_type": "code",
   "execution_count": null,
   "metadata": {},
   "outputs": [],
   "source": [
    "sns.distplot(lcm);"
   ]
  },
  {
   "cell_type": "code",
   "execution_count": null,
   "metadata": {},
   "outputs": [],
   "source": [
    "print(stats.normaltest(lcm))"
   ]
  },
  {
   "cell_type": "code",
   "execution_count": null,
   "metadata": {},
   "outputs": [],
   "source": [
    "sns.jointplot(data=multi_clean_df, x='Age-Adjusted Mortality', y=y_data, kind='reg', color='g')"
   ]
  },
  {
   "cell_type": "code",
   "execution_count": null,
   "metadata": {},
   "outputs": [],
   "source": [
    "# View the columns that contain 'Black'\n",
    "regex4 = '.*Black.*'\n",
    "cols_black = [col for col in multi_df.columns if re.match(regex4,col) is not None] \n",
    "cols_black"
   ]
  },
  {
   "cell_type": "code",
   "execution_count": null,
   "metadata": {},
   "outputs": [],
   "source": [
    "lcm\n",
    "sns.boxplot(lcm)\n",
    "# flierprops = dict(markerfacecolor='0.75', markersize=5,\n",
    "#               linestyle='none')\n",
    "# seaborn.boxplot(x=\"centrality\", y=\"score\", hue=\"model\", data=data,\n",
    "#                 flierprops=flierprops)"
   ]
  },
  {
   "cell_type": "code",
   "execution_count": null,
   "metadata": {},
   "outputs": [],
   "source": [
    "all_df.columns.values"
   ]
  },
  {
   "cell_type": "code",
   "execution_count": null,
   "metadata": {},
   "outputs": [],
   "source": [
    "indexes = [0,8,10,11]\n",
    "for index in sorted(indexes, reverse=True):\n",
    "    del cols_black[index]\n",
    "cols_black"
   ]
  },
  {
   "cell_type": "code",
   "execution_count": null,
   "metadata": {},
   "outputs": [],
   "source": [
    "black_df = multi_df[cols_black]\n",
    "black_df.columns"
   ]
  },
  {
   "cell_type": "code",
   "execution_count": null,
   "metadata": {},
   "outputs": [],
   "source": [
    "black_df.rename(columns={\"% LBW (Black)\" : \"Low_Birth_Weight\",\n",
    "                   \"Teen Birth Rate (Black)\" : \"Teen_Birth_Rate\",\n",
    "                   \"Preventable Hosp. Rate (Black)\"  : \"Prev_Hosp_Rate\",\n",
    "                   \"% Screened (Black)\"  : \"Mammography_Screen_Perct\",\n",
    "                   \"% Vaccinated (Black)\"  : \"Vaccinated_Perct\",\n",
    "                   \"% Children in Poverty (Black)\"  : \"Child_Poverty_Perct\",\n",
    "                   \"% Drive Alone (Black)\"  : \"Drive_Alone_Perct\",\n",
    "                    \"Age-Adjusted Mortality (Black)\"  : \"Age_Adj_Mortality_Rate\",\n",
    "                   \"Household income (Black)\"  : \"Household_Income\"     \n",
    "                   }, inplace=True)"
   ]
  },
  {
   "cell_type": "code",
   "execution_count": null,
   "metadata": {},
   "outputs": [],
   "source": [
    "black_df.head()"
   ]
  },
  {
   "cell_type": "code",
   "execution_count": null,
   "metadata": {},
   "outputs": [],
   "source": [
    "black_urban = black_df.loc['Urban']\n",
    "black_rural = black_df.loc['Rural']\n",
    "black_suburbs = black_urban.loc['Large fringe metro']\n",
    "black_suburbs_clean = black_suburbs.dropna()\n",
    "black_rural"
   ]
  },
  {
   "cell_type": "code",
   "execution_count": null,
   "metadata": {},
   "outputs": [],
   "source": [
    "black_model = ols(\"Age_Adj_Mortality_Rate ~ Household_Income + Prev_Hosp_Rate + Child_Poverty_Perct + Vaccinated_Perct\", data=black_rural).fit()\n",
    "print(black_model.summary())"
   ]
  },
  {
   "cell_type": "code",
   "execution_count": null,
   "metadata": {},
   "outputs": [],
   "source": [
    "\n",
    "fig = plt.figure(figsize=(12,8))\n",
    "fig = sm.graphics.plot_partregress_grid(black_model, fig=fig)"
   ]
  },
  {
   "cell_type": "code",
   "execution_count": null,
   "metadata": {},
   "outputs": [],
   "source": [
    "fig, ax = plt.subplots(figsize=(12,8))\n",
    "fig = sm.graphics.plot_partregress(\"Age_Adj_Mortality_Rate\", \"Household_Income\", [\"Teen_Birth_Rate\", \"Prev_Hosp_Rate\", \"Child_Poverty_Perct\",\"Vaccinated_Perct\"],  ax=ax, data=black_suburbs_clean)\n"
   ]
  },
  {
   "cell_type": "code",
   "execution_count": null,
   "metadata": {},
   "outputs": [],
   "source": []
  },
  {
   "cell_type": "code",
   "execution_count": null,
   "metadata": {},
   "outputs": [],
   "source": []
  }
 ],
 "metadata": {
  "kernelspec": {
   "display_name": "Python 3",
   "language": "python",
   "name": "python3"
  },
  "language_info": {
   "codemirror_mode": {
    "name": "ipython",
    "version": 3
   },
   "file_extension": ".py",
   "mimetype": "text/x-python",
   "name": "python",
   "nbconvert_exporter": "python",
   "pygments_lexer": "ipython3",
   "version": "3.6.10"
  }
 },
 "nbformat": 4,
 "nbformat_minor": 2
}
