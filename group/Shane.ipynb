{
 "cells": [
  {
   "cell_type": "markdown",
   "metadata": {},
   "source": [
    "# Import dependencies, API key and set output file name"
   ]
  },
  {
   "cell_type": "code",
   "execution_count": 1,
   "metadata": {
    "scrolled": false
   },
   "outputs": [],
   "source": [
    "# Dependencies and Setup\n",
    "import matplotlib.pyplot as plt\n",
    "import pandas as pd\n",
    "import numpy as np\n",
    "import requests\n",
    "import time\n",
    "from scipy.stats import linregress\n",
    "from pprint import pprint\n",
    "from datetime import datetime\n",
    "import os\n",
    "import gmaps\n",
    "import seaborn as sn\n",
    "\n",
    "# Import API key from a file that is ignored by Git (.gitignore file) so the key isn't exposed to the public\n",
    "#from config import gkey\n",
    "\n",
    "# Configure gmaps\n",
    "#gmaps.configure(api_key=gkey)"
   ]
  },
  {
   "cell_type": "markdown",
   "metadata": {},
   "source": [
    "## Store County Health Rankings Excel file results into DataFrame\n",
    "\n",
    "* Load the excel file imported from https://www.countyhealthrankings.org/app/texas/2019/measure/outcomes/144/description?sort=desc-2"
   ]
  },
  {
   "cell_type": "code",
   "execution_count": 2,
   "metadata": {},
   "outputs": [],
   "source": [
    "amd_df = pd.read_excel('input_data/health_data.xls',    sheet_name='AMD')\n",
    "rmd_df = pd.read_excel('input_data/health_data.xls',    sheet_name='RMD')\n",
    "cs_df  = pd.read_excel('input_data/county_status.xlsx', sheet_name='RVU')"
   ]
  },
  {
   "cell_type": "code",
   "execution_count": 3,
   "metadata": {},
   "outputs": [
    {
     "data": {
      "text/html": [
       "<div>\n",
       "<style scoped>\n",
       "    .dataframe tbody tr th:only-of-type {\n",
       "        vertical-align: middle;\n",
       "    }\n",
       "\n",
       "    .dataframe tbody tr th {\n",
       "        vertical-align: top;\n",
       "    }\n",
       "\n",
       "    .dataframe thead th {\n",
       "        text-align: right;\n",
       "    }\n",
       "</style>\n",
       "<table border=\"1\" class=\"dataframe\">\n",
       "  <thead>\n",
       "    <tr style=\"text-align: right;\">\n",
       "      <th></th>\n",
       "      <th>FIPS</th>\n",
       "      <th>State</th>\n",
       "      <th>County</th>\n",
       "      <th>Life Expectancy</th>\n",
       "      <th>Life Expectancy (Black)</th>\n",
       "      <th>Life Expectancy (Hispanic)</th>\n",
       "      <th>Life Expectancy (White)</th>\n",
       "      <th>Age-Adjusted Mortality</th>\n",
       "      <th>Age-Adjusted Mortality (Black)</th>\n",
       "      <th>Age-Adjusted Mortality (Hispanic)</th>\n",
       "      <th>...</th>\n",
       "      <th>% 65 and over</th>\n",
       "      <th>% African American</th>\n",
       "      <th>% American Indian/Alaskan Native</th>\n",
       "      <th>% Asian</th>\n",
       "      <th>% Native Hawaiian/Other Pacific Islander</th>\n",
       "      <th>% Hispanic</th>\n",
       "      <th>% Non-Hispanic White</th>\n",
       "      <th>% Not Proficient in English</th>\n",
       "      <th>% Female</th>\n",
       "      <th>% Rural</th>\n",
       "    </tr>\n",
       "  </thead>\n",
       "  <tbody>\n",
       "    <tr>\n",
       "      <td>0</td>\n",
       "      <td>48000</td>\n",
       "      <td>Texas</td>\n",
       "      <td>NaN</td>\n",
       "      <td>79.021563</td>\n",
       "      <td>NaN</td>\n",
       "      <td>NaN</td>\n",
       "      <td>NaN</td>\n",
       "      <td>341.1</td>\n",
       "      <td>NaN</td>\n",
       "      <td>NaN</td>\n",
       "      <td>...</td>\n",
       "      <td>12.269075</td>\n",
       "      <td>11.900799</td>\n",
       "      <td>1.015072</td>\n",
       "      <td>5.008215</td>\n",
       "      <td>0.143934</td>\n",
       "      <td>39.41591</td>\n",
       "      <td>41.994526</td>\n",
       "      <td>7.662459</td>\n",
       "      <td>50.319754</td>\n",
       "      <td>15.300999</td>\n",
       "    </tr>\n",
       "  </tbody>\n",
       "</table>\n",
       "<p>1 rows × 56 columns</p>\n",
       "</div>"
      ],
      "text/plain": [
       "    FIPS  State County  Life Expectancy  Life Expectancy (Black)  \\\n",
       "0  48000  Texas    NaN        79.021563                      NaN   \n",
       "\n",
       "   Life Expectancy (Hispanic)  Life Expectancy (White)  \\\n",
       "0                         NaN                      NaN   \n",
       "\n",
       "   Age-Adjusted Mortality  Age-Adjusted Mortality (Black)  \\\n",
       "0                   341.1                             NaN   \n",
       "\n",
       "   Age-Adjusted Mortality (Hispanic)  ...  % 65 and over  % African American  \\\n",
       "0                                NaN  ...      12.269075           11.900799   \n",
       "\n",
       "   % American Indian/Alaskan Native   % Asian  \\\n",
       "0                          1.015072  5.008215   \n",
       "\n",
       "   % Native Hawaiian/Other Pacific Islander  % Hispanic  % Non-Hispanic White  \\\n",
       "0                                  0.143934    39.41591             41.994526   \n",
       "\n",
       "   % Not Proficient in English   % Female    % Rural  \n",
       "0                     7.662459  50.319754  15.300999  \n",
       "\n",
       "[1 rows x 56 columns]"
      ]
     },
     "execution_count": 3,
     "metadata": {},
     "output_type": "execute_result"
    }
   ],
   "source": [
    "mod_amd_df = amd_df.drop(amd_df.columns[amd_df.columns.str.contains('^9')], axis=1)\n",
    "mod_amd_1df = mod_amd_df.drop(mod_amd_df.columns[mod_amd_df.columns.str.contains('^#')], axis=1)\n",
    "mod_amd_2df = mod_amd_1df.drop(mod_amd_1df.columns[mod_amd_1df.columns.str.contains('^Score')], axis=1)\n",
    "mod_amd_2df.reset_index(drop=True)\n",
    "mod_amd_2df.head(1)"
   ]
  },
  {
   "cell_type": "code",
   "execution_count": 4,
   "metadata": {},
   "outputs": [
    {
     "data": {
      "text/html": [
       "<div>\n",
       "<style scoped>\n",
       "    .dataframe tbody tr th:only-of-type {\n",
       "        vertical-align: middle;\n",
       "    }\n",
       "\n",
       "    .dataframe tbody tr th {\n",
       "        vertical-align: top;\n",
       "    }\n",
       "\n",
       "    .dataframe thead th {\n",
       "        text-align: right;\n",
       "    }\n",
       "</style>\n",
       "<table border=\"1\" class=\"dataframe\">\n",
       "  <thead>\n",
       "    <tr style=\"text-align: right;\">\n",
       "      <th></th>\n",
       "      <th>FIPS</th>\n",
       "      <th>State</th>\n",
       "      <th>County</th>\n",
       "      <th>Years of Potential Life Lost Rate</th>\n",
       "      <th>YPLL Rate (Black)</th>\n",
       "      <th>YPLL Rate (Hispanic)</th>\n",
       "      <th>YPLL Rate (White)</th>\n",
       "      <th>% Fair/Poor</th>\n",
       "      <th>Physically Unhealthy Days</th>\n",
       "      <th>Mentally Unhealthy Days</th>\n",
       "      <th>...</th>\n",
       "      <th>Presence of violation</th>\n",
       "      <th>% Severe Housing Problems</th>\n",
       "      <th>Severe Housing Cost Burden</th>\n",
       "      <th>Overcrowding</th>\n",
       "      <th>Inadequate Facilities</th>\n",
       "      <th>% Drive Alone</th>\n",
       "      <th>% Drive Alone (Black)</th>\n",
       "      <th>% Drive Alone (Hispanic)</th>\n",
       "      <th>% Drive Alone (White)</th>\n",
       "      <th>% Long Commute - Drives Alone</th>\n",
       "    </tr>\n",
       "  </thead>\n",
       "  <tbody>\n",
       "    <tr>\n",
       "      <td>0</td>\n",
       "      <td>48000</td>\n",
       "      <td>Texas</td>\n",
       "      <td>NaN</td>\n",
       "      <td>6681.323364</td>\n",
       "      <td>NaN</td>\n",
       "      <td>NaN</td>\n",
       "      <td>NaN</td>\n",
       "      <td>18.173766</td>\n",
       "      <td>3.539468</td>\n",
       "      <td>3.415822</td>\n",
       "      <td>...</td>\n",
       "      <td>NaN</td>\n",
       "      <td>17.969559</td>\n",
       "      <td>NaN</td>\n",
       "      <td>NaN</td>\n",
       "      <td>NaN</td>\n",
       "      <td>80.458438</td>\n",
       "      <td>NaN</td>\n",
       "      <td>NaN</td>\n",
       "      <td>NaN</td>\n",
       "      <td>37.7</td>\n",
       "    </tr>\n",
       "  </tbody>\n",
       "</table>\n",
       "<p>1 rows × 75 columns</p>\n",
       "</div>"
      ],
      "text/plain": [
       "    FIPS  State County  Years of Potential Life Lost Rate  YPLL Rate (Black)  \\\n",
       "0  48000  Texas    NaN                        6681.323364                NaN   \n",
       "\n",
       "   YPLL Rate (Hispanic)  YPLL Rate (White)  % Fair/Poor  \\\n",
       "0                   NaN                NaN    18.173766   \n",
       "\n",
       "   Physically Unhealthy Days  Mentally Unhealthy Days  ...  \\\n",
       "0                   3.539468                 3.415822  ...   \n",
       "\n",
       "  Presence of violation  % Severe Housing Problems  \\\n",
       "0                   NaN                  17.969559   \n",
       "\n",
       "   Severe Housing Cost Burden  Overcrowding  Inadequate Facilities  \\\n",
       "0                         NaN           NaN                    NaN   \n",
       "\n",
       "   % Drive Alone  % Drive Alone (Black)  % Drive Alone (Hispanic)  \\\n",
       "0      80.458438                    NaN                       NaN   \n",
       "\n",
       "   % Drive Alone (White)  % Long Commute - Drives Alone  \n",
       "0                    NaN                           37.7  \n",
       "\n",
       "[1 rows x 75 columns]"
      ]
     },
     "execution_count": 4,
     "metadata": {},
     "output_type": "execute_result"
    }
   ],
   "source": [
    "mod_rmd_df  = rmd_df.drop(rmd_df.columns[rmd_df.columns.str.contains('^9')], axis=1)\n",
    "mod_rmd_1df = mod_rmd_df.drop(mod_rmd_df.columns[mod_rmd_df.columns.str.contains('^#')], axis=1)\n",
    "mod_rmd_2df = mod_rmd_1df.drop(mod_rmd_1df.columns[mod_rmd_1df.columns.str.contains('^Z-Score')], axis=1)\n",
    "mod_rmd_2df.reset_index(drop=True)\n",
    "mod_rmd_2df.head(1)"
   ]
  },
  {
   "cell_type": "code",
   "execution_count": 5,
   "metadata": {},
   "outputs": [],
   "source": [
    "mod_cs_df = cs_df.drop(cs_df.columns[cs_df.columns.str.contains('^Border')], axis=1)"
   ]
  },
  {
   "cell_type": "code",
   "execution_count": 6,
   "metadata": {},
   "outputs": [],
   "source": [
    "merged_df = pd.merge(mod_rmd_2df,mod_amd_2df, how='inner', on='County')\n",
    "cols = merged_df.columns\n",
    "col_list = [col for col in cols]"
   ]
  },
  {
   "cell_type": "code",
   "execution_count": 7,
   "metadata": {},
   "outputs": [],
   "source": [
    "final_merged_df = pd.merge(mod_cs_df,merged_df, how='inner', on='County')\n",
    "cols = final_merged_df.columns\n",
    "col_list = [col for col in cols]"
   ]
  },
  {
   "cell_type": "code",
   "execution_count": 8,
   "metadata": {},
   "outputs": [],
   "source": [
    "final_merged_df.drop(['FIPS_y','State_x','State_y'],axis=1, inplace=True)"
   ]
  },
  {
   "cell_type": "code",
   "execution_count": 9,
   "metadata": {},
   "outputs": [],
   "source": [
    "final_merged_df.rename(columns={'FIPS_x':'FIPS'},inplace=True)"
   ]
  },
  {
   "cell_type": "code",
   "execution_count": 10,
   "metadata": {},
   "outputs": [],
   "source": [
    "final_merged_df.to_csv(r'output_data\\final_merged_df.csv')"
   ]
  },
  {
   "cell_type": "code",
   "execution_count": 11,
   "metadata": {},
   "outputs": [],
   "source": [
    "corr = final_merged_df.corr()"
   ]
  },
  {
   "cell_type": "code",
   "execution_count": 12,
   "metadata": {},
   "outputs": [],
   "source": [
    "corr.to_csv(r'output_data\\corr.csv')"
   ]
  },
  {
   "cell_type": "code",
   "execution_count": 13,
   "metadata": {},
   "outputs": [],
   "source": [
    "corr_spear = final_merged_df.corr(method='spearman')"
   ]
  },
  {
   "cell_type": "code",
   "execution_count": 14,
   "metadata": {},
   "outputs": [],
   "source": [
    "corr_spear.to_csv(r'output_data\\corr_spear.csv')"
   ]
  },
  {
   "cell_type": "code",
   "execution_count": 15,
   "metadata": {},
   "outputs": [],
   "source": [
    "#sn.heatmap(corr,annot=True)"
   ]
  },
  {
   "cell_type": "code",
   "execution_count": 16,
   "metadata": {},
   "outputs": [],
   "source": [
    "#hmap"
   ]
  },
  {
   "cell_type": "code",
   "execution_count": 17,
   "metadata": {
    "scrolled": true
   },
   "outputs": [
    {
     "data": {
      "text/html": [
       "<div>\n",
       "<style scoped>\n",
       "    .dataframe tbody tr th:only-of-type {\n",
       "        vertical-align: middle;\n",
       "    }\n",
       "\n",
       "    .dataframe tbody tr th {\n",
       "        vertical-align: top;\n",
       "    }\n",
       "\n",
       "    .dataframe thead th {\n",
       "        text-align: right;\n",
       "    }\n",
       "</style>\n",
       "<table border=\"1\" class=\"dataframe\">\n",
       "  <thead>\n",
       "    <tr style=\"text-align: right;\">\n",
       "      <th></th>\n",
       "      <th>County</th>\n",
       "      <th>Status</th>\n",
       "      <th>FIPS</th>\n",
       "      <th>Years of Potential Life Lost Rate</th>\n",
       "      <th>YPLL Rate (Black)</th>\n",
       "      <th>YPLL Rate (Hispanic)</th>\n",
       "      <th>YPLL Rate (White)</th>\n",
       "      <th>% Fair/Poor</th>\n",
       "      <th>Physically Unhealthy Days</th>\n",
       "      <th>Mentally Unhealthy Days</th>\n",
       "      <th>...</th>\n",
       "      <th>% 65 and over</th>\n",
       "      <th>% African American</th>\n",
       "      <th>% American Indian/Alaskan Native</th>\n",
       "      <th>% Asian</th>\n",
       "      <th>% Native Hawaiian/Other Pacific Islander</th>\n",
       "      <th>% Hispanic</th>\n",
       "      <th>% Non-Hispanic White</th>\n",
       "      <th>% Not Proficient in English</th>\n",
       "      <th>% Female</th>\n",
       "      <th>% Rural</th>\n",
       "    </tr>\n",
       "  </thead>\n",
       "  <tbody>\n",
       "    <tr>\n",
       "      <td>0</td>\n",
       "      <td>Anderson</td>\n",
       "      <td>Rural</td>\n",
       "      <td>48001</td>\n",
       "      <td>10272.949118</td>\n",
       "      <td>12962.159784</td>\n",
       "      <td>10880.315229</td>\n",
       "      <td>9971.540573</td>\n",
       "      <td>19.529585</td>\n",
       "      <td>3.92613</td>\n",
       "      <td>3.642847</td>\n",
       "      <td>...</td>\n",
       "      <td>14.535599</td>\n",
       "      <td>20.687207</td>\n",
       "      <td>0.677162</td>\n",
       "      <td>0.900573</td>\n",
       "      <td>0.143745</td>\n",
       "      <td>17.815763</td>\n",
       "      <td>59.126098</td>\n",
       "      <td>2.715874</td>\n",
       "      <td>39.06756</td>\n",
       "      <td>67.063533</td>\n",
       "    </tr>\n",
       "  </tbody>\n",
       "</table>\n",
       "<p>1 rows × 128 columns</p>\n",
       "</div>"
      ],
      "text/plain": [
       "     County Status   FIPS  Years of Potential Life Lost Rate  \\\n",
       "0  Anderson  Rural  48001                       10272.949118   \n",
       "\n",
       "   YPLL Rate (Black)  YPLL Rate (Hispanic)  YPLL Rate (White)  % Fair/Poor  \\\n",
       "0       12962.159784          10880.315229        9971.540573    19.529585   \n",
       "\n",
       "   Physically Unhealthy Days  Mentally Unhealthy Days  ... % 65 and over  \\\n",
       "0                    3.92613                 3.642847  ...     14.535599   \n",
       "\n",
       "   % African American  % American Indian/Alaskan Native   % Asian  \\\n",
       "0           20.687207                          0.677162  0.900573   \n",
       "\n",
       "   % Native Hawaiian/Other Pacific Islander  % Hispanic  % Non-Hispanic White  \\\n",
       "0                                  0.143745   17.815763             59.126098   \n",
       "\n",
       "   % Not Proficient in English  % Female    % Rural  \n",
       "0                     2.715874  39.06756  67.063533  \n",
       "\n",
       "[1 rows x 128 columns]"
      ]
     },
     "execution_count": 17,
     "metadata": {},
     "output_type": "execute_result"
    }
   ],
   "source": [
    "rural_df = final_merged_df[final_merged_df[\"Status\"] == \"Rural\"]\n",
    "rural_df.reset_index(drop=True)\n",
    "rural_df.head(1)"
   ]
  },
  {
   "cell_type": "code",
   "execution_count": 18,
   "metadata": {},
   "outputs": [],
   "source": [
    "rural_df.to_csv(r'output_data\\rural_df.csv')"
   ]
  },
  {
   "cell_type": "code",
   "execution_count": 19,
   "metadata": {},
   "outputs": [],
   "source": [
    "corr = rural_df.corr()"
   ]
  },
  {
   "cell_type": "code",
   "execution_count": 20,
   "metadata": {},
   "outputs": [],
   "source": [
    "corr.to_csv(r'output_data\\rural_corr.csv')"
   ]
  },
  {
   "cell_type": "code",
   "execution_count": 21,
   "metadata": {},
   "outputs": [],
   "source": [
    "corr_spear = rural_df.corr(method='spearman')"
   ]
  },
  {
   "cell_type": "code",
   "execution_count": 22,
   "metadata": {},
   "outputs": [],
   "source": [
    "corr_spear.to_csv(r'output_data\\rural_corr_spear.csv')"
   ]
  },
  {
   "cell_type": "code",
   "execution_count": 23,
   "metadata": {},
   "outputs": [
    {
     "data": {
      "text/html": [
       "<div>\n",
       "<style scoped>\n",
       "    .dataframe tbody tr th:only-of-type {\n",
       "        vertical-align: middle;\n",
       "    }\n",
       "\n",
       "    .dataframe tbody tr th {\n",
       "        vertical-align: top;\n",
       "    }\n",
       "\n",
       "    .dataframe thead th {\n",
       "        text-align: right;\n",
       "    }\n",
       "</style>\n",
       "<table border=\"1\" class=\"dataframe\">\n",
       "  <thead>\n",
       "    <tr style=\"text-align: right;\">\n",
       "      <th></th>\n",
       "      <th>County</th>\n",
       "      <th>Status</th>\n",
       "      <th>FIPS</th>\n",
       "      <th>Years of Potential Life Lost Rate</th>\n",
       "      <th>YPLL Rate (Black)</th>\n",
       "      <th>YPLL Rate (Hispanic)</th>\n",
       "      <th>YPLL Rate (White)</th>\n",
       "      <th>% Fair/Poor</th>\n",
       "      <th>Physically Unhealthy Days</th>\n",
       "      <th>Mentally Unhealthy Days</th>\n",
       "      <th>...</th>\n",
       "      <th>% 65 and over</th>\n",
       "      <th>% African American</th>\n",
       "      <th>% American Indian/Alaskan Native</th>\n",
       "      <th>% Asian</th>\n",
       "      <th>% Native Hawaiian/Other Pacific Islander</th>\n",
       "      <th>% Hispanic</th>\n",
       "      <th>% Non-Hispanic White</th>\n",
       "      <th>% Not Proficient in English</th>\n",
       "      <th>% Female</th>\n",
       "      <th>% Rural</th>\n",
       "    </tr>\n",
       "  </thead>\n",
       "  <tbody>\n",
       "    <tr>\n",
       "      <td>3</td>\n",
       "      <td>Aransas</td>\n",
       "      <td>Urban</td>\n",
       "      <td>48007</td>\n",
       "      <td>9315.870361</td>\n",
       "      <td>NaN</td>\n",
       "      <td>6088.571549</td>\n",
       "      <td>11277.610901</td>\n",
       "      <td>19.517678</td>\n",
       "      <td>3.859044</td>\n",
       "      <td>3.7431</td>\n",
       "      <td>...</td>\n",
       "      <td>27.295479</td>\n",
       "      <td>1.360863</td>\n",
       "      <td>1.243548</td>\n",
       "      <td>1.9318</td>\n",
       "      <td>0.082121</td>\n",
       "      <td>27.655248</td>\n",
       "      <td>67.171125</td>\n",
       "      <td>1.588916</td>\n",
       "      <td>50.527921</td>\n",
       "      <td>27.260558</td>\n",
       "    </tr>\n",
       "  </tbody>\n",
       "</table>\n",
       "<p>1 rows × 128 columns</p>\n",
       "</div>"
      ],
      "text/plain": [
       "    County Status   FIPS  Years of Potential Life Lost Rate  \\\n",
       "3  Aransas  Urban  48007                        9315.870361   \n",
       "\n",
       "   YPLL Rate (Black)  YPLL Rate (Hispanic)  YPLL Rate (White)  % Fair/Poor  \\\n",
       "3                NaN           6088.571549       11277.610901    19.517678   \n",
       "\n",
       "   Physically Unhealthy Days  Mentally Unhealthy Days  ... % 65 and over  \\\n",
       "3                   3.859044                   3.7431  ...     27.295479   \n",
       "\n",
       "   % African American  % American Indian/Alaskan Native  % Asian  \\\n",
       "3            1.360863                          1.243548   1.9318   \n",
       "\n",
       "   % Native Hawaiian/Other Pacific Islander  % Hispanic  % Non-Hispanic White  \\\n",
       "3                                  0.082121   27.655248             67.171125   \n",
       "\n",
       "   % Not Proficient in English   % Female    % Rural  \n",
       "3                     1.588916  50.527921  27.260558  \n",
       "\n",
       "[1 rows x 128 columns]"
      ]
     },
     "execution_count": 23,
     "metadata": {},
     "output_type": "execute_result"
    }
   ],
   "source": [
    "urban_df = final_merged_df[final_merged_df[\"Status\"] == \"Urban\"]\n",
    "urban_df.reset_index(drop=True)\n",
    "urban_df.head(1)"
   ]
  },
  {
   "cell_type": "code",
   "execution_count": 24,
   "metadata": {},
   "outputs": [],
   "source": [
    "urban_df.to_csv(r'output_data\\urban_df.csv')"
   ]
  },
  {
   "cell_type": "code",
   "execution_count": 25,
   "metadata": {},
   "outputs": [],
   "source": [
    "corr = urban_df.corr()"
   ]
  },
  {
   "cell_type": "code",
   "execution_count": 26,
   "metadata": {},
   "outputs": [],
   "source": [
    "corr.to_csv(r'output_data\\ubran_corr.csv')"
   ]
  },
  {
   "cell_type": "code",
   "execution_count": 27,
   "metadata": {},
   "outputs": [],
   "source": [
    "corr_spear = urban_df.corr(method='spearman')"
   ]
  },
  {
   "cell_type": "code",
   "execution_count": 28,
   "metadata": {},
   "outputs": [],
   "source": [
    "corr_spear.to_csv(r'output_data\\urban_corr_spear.csv')"
   ]
  },
  {
   "cell_type": "code",
   "execution_count": null,
   "metadata": {},
   "outputs": [],
   "source": []
  }
 ],
 "metadata": {
  "anaconda-cloud": {},
  "kernel_info": {
   "name": "python3"
  },
  "kernelspec": {
   "display_name": "Python 3",
   "language": "python",
   "name": "python3"
  },
  "language_info": {
   "codemirror_mode": {
    "name": "ipython",
    "version": 3
   },
   "file_extension": ".py",
   "mimetype": "text/x-python",
   "name": "python",
   "nbconvert_exporter": "python",
   "pygments_lexer": "ipython3",
   "version": "3.6.10"
  },
  "latex_envs": {
   "LaTeX_envs_menu_present": true,
   "autoclose": false,
   "autocomplete": true,
   "bibliofile": "biblio.bib",
   "cite_by": "apalike",
   "current_citInitial": 1,
   "eqLabelWithNumbers": true,
   "eqNumInitial": 1,
   "hotkeys": {
    "equation": "Ctrl-E",
    "itemize": "Ctrl-I"
   },
   "labels_anchors": false,
   "latex_user_defs": false,
   "report_style_numbering": false,
   "user_envs_cfg": false
  },
  "nteract": {
   "version": "0.12.3"
  }
 },
 "nbformat": 4,
 "nbformat_minor": 2
}
